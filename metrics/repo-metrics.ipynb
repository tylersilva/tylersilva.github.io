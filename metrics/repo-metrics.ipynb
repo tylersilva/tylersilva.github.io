{
 "cells": [
  {
   "attachments": {},
   "cell_type": "markdown",
   "id": "97825e42",
   "metadata": {},
   "source": [
    "(file-types:notebooks)=\n",
    "# Repository Statistics"
   ]
  },
  {
   "attachments": {},
   "cell_type": "markdown",
   "id": "c214274e",
   "metadata": {},
   "source": [
    "## Store the API response data in JSON"
   ]
  },
  {
   "cell_type": "code",
   "execution_count": 1,
   "id": "a6f1549a",
   "metadata": {},
   "outputs": [],
   "source": [
    "import requests"
   ]
  },
  {
   "cell_type": "code",
   "execution_count": 2,
   "id": "b21d6bae",
   "metadata": {},
   "outputs": [],
   "source": [
    "query = \"mario\"\n",
    "language = \"python\"\n",
    "criteria = \"stars\" # possible options - stars, forks, watchers, open_issues\n",
    "\n",
    "url = (f'https://api.github.com/search/repositories?q={query}+language:{language}&sort={criteria}&order=desc')"
   ]
  },
  {
   "cell_type": "code",
   "execution_count": 3,
   "id": "9aa8518b",
   "metadata": {},
   "outputs": [
    {
     "name": "stdout",
     "output_type": "stream",
     "text": [
      "\n",
      "Status code: 200\n"
     ]
    }
   ],
   "source": [
    "r = requests.get(url)\n",
    "\n",
    "print(\"\\nStatus code:\", r.status_code)\n",
    "\n",
    "r_dict = r.json()"
   ]
  },
  {
   "attachments": {},
   "cell_type": "markdown",
   "id": "a5ee1314",
   "metadata": {},
   "source": [
    "## Print total repositories found"
   ]
  },
  {
   "cell_type": "code",
   "execution_count": 4,
   "id": "1a5a00b6",
   "metadata": {},
   "outputs": [
    {
     "name": "stdout",
     "output_type": "stream",
     "text": [
      "\n",
      "Total repositories: 5865\n"
     ]
    }
   ],
   "source": [
    "print(\"\\nTotal repositories:\", r_dict['total_count'])"
   ]
  },
  {
   "attachments": {},
   "cell_type": "markdown",
   "id": "c6870016",
   "metadata": {},
   "source": [
    "## Capture additional details about the repositories"
   ]
  },
  {
   "cell_type": "code",
   "execution_count": 5,
   "id": "2fe89423",
   "metadata": {},
   "outputs": [
    {
     "name": "stdout",
     "output_type": "stream",
     "text": [
      "\n",
      "Items returned: 30\n"
     ]
    }
   ],
   "source": [
    "repos = r_dict['items']\n",
    "print(\"\\nItems returned:\", len(repos))"
   ]
  },
  {
   "attachments": {},
   "cell_type": "markdown",
   "id": "a7ebfbf6",
   "metadata": {},
   "source": [
    "## Examine the data in the top (stars) repository"
   ]
  },
  {
   "cell_type": "code",
   "execution_count": 6,
   "id": "f6bc8bbe",
   "metadata": {},
   "outputs": [
    {
     "name": "stdout",
     "output_type": "stream",
     "text": [
      "\n",
      "Information regarding the top repositories:\n",
      "\n",
      "Name: tetris_game\n",
      "Description: A Tetris Game with AI\n",
      "Owner: LoveDaisy\n",
      "Stars: 644\n",
      "Forks: 240\n",
      "Watchers: 644\n",
      "Open Issues: 0\n",
      "Repository: https://github.com/LoveDaisy/tetris_game\n",
      "Created: 2017-07-05T03:18:58Z\n",
      "Updated: 2022-12-14T06:11:25Z\n",
      "\n",
      "\n",
      "Name: Tetris-deep-Q-learning-pytorch\n",
      "Description: Deep Q-learning for playing tetris game\n",
      "Owner: uvipen\n",
      "Stars: 395\n",
      "Forks: 80\n",
      "Watchers: 395\n",
      "Open Issues: 6\n",
      "Repository: https://github.com/uvipen/Tetris-deep-Q-learning-pytorch\n",
      "Created: 2020-03-29T10:35:44Z\n",
      "Updated: 2022-12-05T12:51:33Z\n",
      "\n",
      "\n",
      "Name: tetris_mcts\n",
      "Description: MCTS project for Tetris\n",
      "Owner: hrpan\n",
      "Stars: 316\n",
      "Forks: 31\n",
      "Watchers: 316\n",
      "Open Issues: 4\n",
      "Repository: https://github.com/hrpan/tetris_mcts\n",
      "Created: 2018-02-20T20:52:28Z\n",
      "Updated: 2022-12-05T11:20:35Z\n",
      "\n",
      "\n",
      "Name: tetris-ai\n",
      "Description: A deep reinforcement learning bot that plays tetris\n",
      "Owner: nuno-faria\n",
      "Stars: 189\n",
      "Forks: 49\n",
      "Watchers: 189\n",
      "Open Issues: 5\n",
      "Repository: https://github.com/nuno-faria/tetris-ai\n",
      "Created: 2019-07-23T16:08:20Z\n",
      "Updated: 2022-12-20T09:19:03Z\n",
      "\n",
      "\n",
      "Name: tiny-tetris\n",
      "Description: A Python Tetris implementation that \"fits on a business card\" (20 lines x 80 characters)\n",
      "Owner: nickmpaz\n",
      "Stars: 178\n",
      "Forks: 29\n",
      "Watchers: 178\n",
      "Open Issues: 0\n",
      "Repository: https://github.com/nickmpaz/tiny-tetris\n",
      "Created: 2019-06-01T23:20:12Z\n",
      "Updated: 2022-12-08T18:32:52Z\n",
      "\n",
      "\n"
     ]
    }
   ],
   "source": [
    "print(\"\\nInformation regarding the top repositories:\\n\")\n",
    "for repo in repos[0:5]:\n",
    "    print('Name:', repo['name'])  #print the name of the project\n",
    "    print('Description:', repo['description']) #print the repository’s description\n",
    "    print('Owner:', repo['owner']['login'])  #use the key owner and the the key login to access the dictionary representing the owner and the owner’s login name respectively.\n",
    "    print('Stars:', repo['stargazers_count'])  #print how many stars the project has earned\n",
    "    print('Forks:', repo['forks_count'])  #print how many times the project has been forked\n",
    "    print('Watchers:', repo['watchers_count'])  #print how many users are watching the project\n",
    "    print('Open Issues:', repo['open_issues_count'])  #print how many open issues the project has\n",
    "    print('Repository:', repo['html_url'])  #print URL for the project’s GitHub repository\n",
    "    print('Created:', repo['created_at'])  #print when it was created\n",
    "    print('Updated:', repo['updated_at'])  #show when it was last updated\n",
    "    print(\"\\n\")"
   ]
  }
 ],
 "metadata": {
  "kernelspec": {
   "display_name": "Python 3 (ipykernel)",
   "language": "python",
   "name": "python3"
  },
  "language_info": {
   "codemirror_mode": {
    "name": "ipython",
    "version": 3
   },
   "file_extension": ".py",
   "mimetype": "text/x-python",
   "name": "python",
   "nbconvert_exporter": "python",
   "pygments_lexer": "ipython3",
   "version": "3.10.5"
  },
  "vscode": {
   "interpreter": {
    "hash": "aee8b7b246df8f9039afb4144a1f6fd8d2ca17a180786b69acc140d282b71a49"
   }
  }
 },
 "nbformat": 4,
 "nbformat_minor": 5
}
