{
 "cells": [
  {
   "attachments": {},
   "cell_type": "markdown",
   "id": "97825e42",
   "metadata": {},
   "source": [
    "# User Statistics"
   ]
  },
  {
   "attachments": {},
   "cell_type": "markdown",
   "id": "c214274e",
   "metadata": {},
   "source": [
    "## Store the API response data in JSON"
   ]
  },
  {
   "cell_type": "code",
   "execution_count": 6,
   "id": "a6f1549a",
   "metadata": {},
   "outputs": [],
   "source": [
    "import requests\n",
    "import pandas as pd\n",
    "import json"
   ]
  },
  {
   "cell_type": "code",
   "execution_count": 7,
   "id": "b21d6bae",
   "metadata": {},
   "outputs": [],
   "source": [
    "org = \"microsoft\"\n",
    "project = \"vscode\"\n",
    "\n",
    "url = (f'https://api.github.com/repos/{org}/{project}/commits')"
   ]
  },
  {
   "cell_type": "code",
   "execution_count": 8,
   "id": "9aa8518b",
   "metadata": {},
   "outputs": [
    {
     "name": "stdout",
     "output_type": "stream",
     "text": [
      "\n",
      "Status code: 200\n"
     ]
    }
   ],
   "source": [
    "try:\n",
    "    r = requests.get(url,timeout=30)\n",
    "except requests.ConnectionError as e:\n",
    "    print(\"Connection Error\")\n",
    "    print(str(e))\n",
    "except requests.Timeout as e:\n",
    "    print(\"Timeout Error\")\n",
    "    print(str(e))\n",
    "except requests.RequestException as e:\n",
    "    print(\"General Error\")\n",
    "    print(str(e))\n",
    "\n",
    "print(\"\\nStatus code:\", r.status_code)\n",
    "\n",
    "r_dict = r.json()"
   ]
  },
  {
   "attachments": {},
   "cell_type": "markdown",
   "id": "a7ebfbf6",
   "metadata": {},
   "source": [
    "## Capture and display the top user data"
   ]
  },
  {
   "cell_type": "code",
   "execution_count": 9,
   "id": "f6bc8bbe",
   "metadata": {},
   "outputs": [
    {
     "name": "stdout",
     "output_type": "stream",
     "text": [
      "Top developer commits on this project (microsoft\\vscode): \n",
      " {\n",
      "    \"Daniel Imms\": 6,\n",
      "    \"Sandeep Somavarapu\": 4,\n",
      "    \"Benjamin Pasero\": 4,\n",
      "    \"Matt Bierner\": 3,\n",
      "    \"Megan Rogge\": 2,\n",
      "    \"Alex Ross\": 2,\n",
      "    \"Johannes\": 2,\n",
      "    \"Connor Peet\": 2,\n",
      "    \"Peng Lyu\": 1,\n",
      "    \"Martin Aeschlimann\": 1,\n",
      "    \"Han\": 1,\n",
      "    \"Andrea Mah\": 1,\n",
      "    \"Johannes Rieken\": 1\n",
      "}\n",
      "Total commits:  30\n"
     ]
    }
   ],
   "source": [
    "name_list = []\n",
    "dev_commits = {}\n",
    "total_commits = 0\n",
    "\n",
    "for r in r_dict:\n",
    "    users = r['commit']['author']\n",
    "    name = users.get('name')\n",
    "    email = users.get('email')\n",
    "    date = users.get('date')\n",
    "\n",
    "    name_list.append(name)\n",
    "\n",
    "for name in name_list:\n",
    "    dev_commits[name] = dev_commits.get(name, 0) + 1\n",
    "\n",
    "json_commits = json.dumps(dict(sorted(dev_commits.items(), key = lambda item: item[1], reverse=True)), indent=4)\n",
    "print(f\"Top developer commits on this project ({org}\\{project}): \\n\", json_commits)\n",
    "\n",
    "for n in name_list:\n",
    "    total_commits += 1\n",
    "\n",
    "print ('Total commits: ', total_commits)"
   ]
  },
  {
   "attachments": {},
   "cell_type": "markdown",
   "id": "f1d8f42c",
   "metadata": {},
   "source": [
    "Create a dataframe with the captured data"
   ]
  },
  {
   "cell_type": "code",
   "execution_count": 10,
   "id": "14e97c8e",
   "metadata": {},
   "outputs": [
    {
     "data": {
      "text/html": [
       "<div>\n",
       "<style scoped>\n",
       "    .dataframe tbody tr th:only-of-type {\n",
       "        vertical-align: middle;\n",
       "    }\n",
       "\n",
       "    .dataframe tbody tr th {\n",
       "        vertical-align: top;\n",
       "    }\n",
       "\n",
       "    .dataframe thead th {\n",
       "        text-align: right;\n",
       "    }\n",
       "</style>\n",
       "<table border=\"1\" class=\"dataframe\">\n",
       "  <thead>\n",
       "    <tr style=\"text-align: right;\">\n",
       "      <th></th>\n",
       "      <th>Developers</th>\n",
       "    </tr>\n",
       "  </thead>\n",
       "  <tbody>\n",
       "    <tr>\n",
       "      <th>Matt Bierner</th>\n",
       "      <td>3</td>\n",
       "    </tr>\n",
       "    <tr>\n",
       "      <th>Daniel Imms</th>\n",
       "      <td>6</td>\n",
       "    </tr>\n",
       "    <tr>\n",
       "      <th>Peng Lyu</th>\n",
       "      <td>1</td>\n",
       "    </tr>\n",
       "    <tr>\n",
       "      <th>Martin Aeschlimann</th>\n",
       "      <td>1</td>\n",
       "    </tr>\n",
       "    <tr>\n",
       "      <th>Han</th>\n",
       "      <td>1</td>\n",
       "    </tr>\n",
       "    <tr>\n",
       "      <th>Sandeep Somavarapu</th>\n",
       "      <td>4</td>\n",
       "    </tr>\n",
       "    <tr>\n",
       "      <th>Benjamin Pasero</th>\n",
       "      <td>4</td>\n",
       "    </tr>\n",
       "    <tr>\n",
       "      <th>Andrea Mah</th>\n",
       "      <td>1</td>\n",
       "    </tr>\n",
       "    <tr>\n",
       "      <th>Megan Rogge</th>\n",
       "      <td>2</td>\n",
       "    </tr>\n",
       "    <tr>\n",
       "      <th>Johannes Rieken</th>\n",
       "      <td>1</td>\n",
       "    </tr>\n",
       "    <tr>\n",
       "      <th>Alex Ross</th>\n",
       "      <td>2</td>\n",
       "    </tr>\n",
       "    <tr>\n",
       "      <th>Johannes</th>\n",
       "      <td>2</td>\n",
       "    </tr>\n",
       "    <tr>\n",
       "      <th>Connor Peet</th>\n",
       "      <td>2</td>\n",
       "    </tr>\n",
       "  </tbody>\n",
       "</table>\n",
       "</div>"
      ],
      "text/plain": [
       "                    Developers\n",
       "Matt Bierner                 3\n",
       "Daniel Imms                  6\n",
       "Peng Lyu                     1\n",
       "Martin Aeschlimann           1\n",
       "Han                          1\n",
       "Sandeep Somavarapu           4\n",
       "Benjamin Pasero              4\n",
       "Andrea Mah                   1\n",
       "Megan Rogge                  2\n",
       "Johannes Rieken              1\n",
       "Alex Ross                    2\n",
       "Johannes                     2\n",
       "Connor Peet                  2"
      ]
     },
     "execution_count": 10,
     "metadata": {},
     "output_type": "execute_result"
    }
   ],
   "source": [
    "df = pd.DataFrame.from_dict(dev_commits, orient='index', columns=['Developers'])\n",
    "df"
   ]
  }
 ],
 "metadata": {
  "kernelspec": {
   "display_name": "Python 3 (ipykernel)",
   "language": "python",
   "name": "python3"
  },
  "language_info": {
   "codemirror_mode": {
    "name": "ipython",
    "version": 3
   },
   "file_extension": ".py",
   "mimetype": "text/x-python",
   "name": "python",
   "nbconvert_exporter": "python",
   "pygments_lexer": "ipython3",
   "version": "3.10.5"
  },
  "vscode": {
   "interpreter": {
    "hash": "aee8b7b246df8f9039afb4144a1f6fd8d2ca17a180786b69acc140d282b71a49"
   }
  }
 },
 "nbformat": 4,
 "nbformat_minor": 5
}
