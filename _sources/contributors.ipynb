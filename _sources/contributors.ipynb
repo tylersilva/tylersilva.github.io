{
 "cells": [
  {
   "attachments": {},
   "cell_type": "markdown",
   "id": "97825e42",
   "metadata": {},
   "source": [
    "# Project Contributors"
   ]
  },
  {
   "attachments": {},
   "cell_type": "markdown",
   "id": "c214274e",
   "metadata": {},
   "source": [
    "## Store the API response data in JSON"
   ]
  },
  {
   "cell_type": "code",
   "execution_count": 1,
   "id": "a6f1549a",
   "metadata": {},
   "outputs": [],
   "source": [
    "import requests\n",
    "import json"
   ]
  },
  {
   "cell_type": "code",
   "execution_count": 2,
   "id": "b21d6bae",
   "metadata": {},
   "outputs": [],
   "source": [
    "org = \"microsoft\"\n",
    "project = \"vscode\"\n",
    "\n",
    "url = (f'https://api.github.com/repos/{org}/{project}/contributors')"
   ]
  },
  {
   "cell_type": "code",
   "execution_count": 3,
   "id": "9aa8518b",
   "metadata": {},
   "outputs": [
    {
     "name": "stdout",
     "output_type": "stream",
     "text": [
      "\n",
      "Status code: 200\n"
     ]
    }
   ],
   "source": [
    "try:\n",
    "    r = requests.get(url,timeout=30)\n",
    "except requests.ConnectionError as e:\n",
    "    print(\"Connection Error\")\n",
    "    print(str(e))\n",
    "except requests.Timeout as e:\n",
    "    print(\"Timeout Error\")\n",
    "    print(str(e))\n",
    "except requests.RequestException as e:\n",
    "    print(\"General Error\")\n",
    "    print(str(e))\n",
    "\n",
    "print(\"\\nStatus code:\", r.status_code)\n",
    "\n",
    "r_dict = r.json()\n"
   ]
  },
  {
   "attachments": {},
   "cell_type": "markdown",
   "id": "a7ebfbf6",
   "metadata": {},
   "source": [
    "## Capture and display the contributors to the project"
   ]
  },
  {
   "cell_type": "code",
   "execution_count": 4,
   "id": "f6bc8bbe",
   "metadata": {},
   "outputs": [
    {
     "name": "stdout",
     "output_type": "stream",
     "text": [
      "Total contributors: 30\n",
      "\n",
      "Contributors: \n",
      "bpasero\n",
      "jrieken\n",
      "joaomoreno\n",
      "mjbvz\n",
      "alexdima\n",
      "Tyriar\n",
      "sandy081\n",
      "isidorn\n",
      "aeschli\n",
      "rebornix\n",
      "roblourens\n",
      "alexr00\n",
      "sbatten\n",
      "meganrogge\n",
      "weinand\n",
      "chrmarti\n",
      "connor4312\n",
      "hediet\n",
      "dbaeumer\n",
      "lramos15\n",
      "ramya-rao-a\n",
      "lszomoru\n",
      "octref\n",
      "rzhao271\n",
      "deepak1556\n",
      "michelkaporin\n",
      "dstorey\n",
      "kieferrm\n",
      "egamma\n",
      "joyceerhl\n"
     ]
    }
   ],
   "source": [
    "users = []\n",
    "total_contrib = 0\n",
    "\n",
    "for i in r_dict:\n",
    "    users.append(i.get('login'))\n",
    "\n",
    "for u in users:\n",
    "    total_contrib += 1\n",
    "\n",
    "print ('Total contributors:', total_contrib)\n",
    "print('\\nContributors: ')\n",
    "print(*users, sep='\\n')"
   ]
  }
 ],
 "metadata": {
  "kernelspec": {
   "display_name": "Python 3 (ipykernel)",
   "language": "python",
   "name": "python3"
  },
  "language_info": {
   "codemirror_mode": {
    "name": "ipython",
    "version": 3
   },
   "file_extension": ".py",
   "mimetype": "text/x-python",
   "name": "python",
   "nbconvert_exporter": "python",
   "pygments_lexer": "ipython3",
   "version": "3.10.5"
  },
  "vscode": {
   "interpreter": {
    "hash": "aee8b7b246df8f9039afb4144a1f6fd8d2ca17a180786b69acc140d282b71a49"
   }
  }
 },
 "nbformat": 4,
 "nbformat_minor": 5
}
