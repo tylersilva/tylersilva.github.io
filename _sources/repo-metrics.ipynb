{
 "cells": [
  {
   "attachments": {},
   "cell_type": "markdown",
   "id": "97825e42",
   "metadata": {},
   "source": [
    "(file-types:notebooks)=\n",
    "# Repository Statistics"
   ]
  },
  {
   "attachments": {},
   "cell_type": "markdown",
   "id": "c214274e",
   "metadata": {},
   "source": [
    "## Store the API response data in JSON"
   ]
  },
  {
   "cell_type": "code",
   "execution_count": 55,
   "id": "a6f1549a",
   "metadata": {},
   "outputs": [],
   "source": [
    "import requests"
   ]
  },
  {
   "cell_type": "code",
   "execution_count": 56,
   "id": "b21d6bae",
   "metadata": {},
   "outputs": [],
   "source": [
    "query = \"tetris\"\n",
    "language = \"python\" # possible options - python, java, c, c#, c++, go,\n",
    "                    # javascript, php, ruby, scala, typescript\n",
    "criteria = \"stars\" # possible options - stars, forks, watchers, open_issues\n",
    "\n",
    "url = (f'https://api.github.com/search/repositories?q={query}+language:{language}&sort={criteria}&order=desc')"
   ]
  },
  {
   "cell_type": "code",
   "execution_count": 57,
   "id": "9aa8518b",
   "metadata": {},
   "outputs": [
    {
     "name": "stdout",
     "output_type": "stream",
     "text": [
      "\n",
      "Status code: 200\n"
     ]
    }
   ],
   "source": [
    "r = requests.get(url)\n",
    "\n",
    "print(\"\\nStatus code:\", r.status_code)\n",
    "\n",
    "r_dict = r.json()"
   ]
  },
  {
   "attachments": {},
   "cell_type": "markdown",
   "id": "a5ee1314",
   "metadata": {},
   "source": [
    "## Print total repositories found"
   ]
  },
  {
   "cell_type": "code",
   "execution_count": 58,
   "id": "1a5a00b6",
   "metadata": {},
   "outputs": [
    {
     "name": "stdout",
     "output_type": "stream",
     "text": [
      "\n",
      "Total repositories: 2916\n"
     ]
    }
   ],
   "source": [
    "print(\"\\nTotal repositories:\", r_dict['total_count'])"
   ]
  },
  {
   "attachments": {},
   "cell_type": "markdown",
   "id": "c6870016",
   "metadata": {},
   "source": [
    "## Capture additional details about the repositories"
   ]
  },
  {
   "cell_type": "code",
   "execution_count": 59,
   "id": "2fe89423",
   "metadata": {},
   "outputs": [
    {
     "name": "stdout",
     "output_type": "stream",
     "text": [
      "\n",
      "Items returned: 30\n"
     ]
    }
   ],
   "source": [
    "repos = r_dict['items']\n",
    "print(\"\\nItems returned:\", len(repos))"
   ]
  },
  {
   "attachments": {},
   "cell_type": "markdown",
   "id": "a7ebfbf6",
   "metadata": {},
   "source": [
    "## Examine the data in the top (stars) repository"
   ]
  },
  {
   "cell_type": "code",
   "execution_count": 60,
   "id": "f6bc8bbe",
   "metadata": {},
   "outputs": [
    {
     "name": "stdout",
     "output_type": "stream",
     "text": [
      "\n",
      "Information regarding the top repository:\n",
      "Name: tetris\n",
      "Description: A simple tetris clone written in zig programming language.\n",
      "Owner: andrewrk\n",
      "Stars: 222\n",
      "Forks: 38\n",
      "Watchers: 222\n",
      "Open Issues: 1\n",
      "Repository: https://github.com/andrewrk/tetris\n",
      "Created: 2016-01-19T08:04:05Z\n",
      "Updated: 2022-12-22T09:01:36Z\n"
     ]
    }
   ],
   "source": [
    "repo = repos[0]\n",
    "print(\"\\nInformation regarding the top repository:\")\n",
    "print('Name:', repo['name'])  #print the name of the project\n",
    "print('Description:', repo['description']) #print the repository’s description\n",
    "print('Owner:', repo['owner']['login'])  #use the key owner and the the key login to access the dictionary representing the owner and the owner’s login name respectively.\n",
    "print('Stars:', repo['stargazers_count'])  #print how many stars the project has earned\n",
    "print('Forks:', repo['forks_count'])  #print how many times the project has been forked\n",
    "print('Watchers:', repo['watchers_count'])  #print how many users are watching the project\n",
    "print('Open Issues:', repo['open_issues_count'])  #print how many open issues the project has\n",
    "print('Repository:', repo['html_url'])  #print URL for the project’s GitHub repository\n",
    "print('Created:', repo['created_at'])  #print when it was created\n",
    "print('Updated:', repo['updated_at'])  #show when it was last updated"
   ]
  }
 ],
 "metadata": {
  "kernelspec": {
   "display_name": "Python 3 (ipykernel)",
   "language": "python",
   "name": "python3"
  },
  "language_info": {
   "codemirror_mode": {
    "name": "ipython",
    "version": 3
   },
   "file_extension": ".py",
   "mimetype": "text/x-python",
   "name": "python",
   "nbconvert_exporter": "python",
   "pygments_lexer": "ipython3",
   "version": "3.10.5"
  },
  "vscode": {
   "interpreter": {
    "hash": "aee8b7b246df8f9039afb4144a1f6fd8d2ca17a180786b69acc140d282b71a49"
   }
  }
 },
 "nbformat": 4,
 "nbformat_minor": 5
}
